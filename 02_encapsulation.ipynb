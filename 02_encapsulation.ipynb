{
 "cells": [
  {
   "cell_type": "markdown",
   "id": "5bcf176c917106fa",
   "metadata": {
    "vscode": {
     "languageId": "raw"
    }
   },
   "source": [
    "# Write OOP classes to handle the following scenarios:\n",
    "\n",
    "1. a user can create and view 2d coordinates\n",
    "2. a user can find out the distance between 2 coordinates\n",
    "3. a user can find the distance of a coordinate from origin\n",
    "4. a user can check if a point lies on a given line\n",
    "5. a user can find the distance between a given 2d point and a given line\n"
   ]
  },
  {
   "cell_type": "code",
   "execution_count": 6,
   "id": "be29c0e20f5bcc97",
   "metadata": {
    "jupyter": {
     "is_executing": true
    }
   },
   "outputs": [],
   "source": [
    "import math\n",
    "\n",
    "class Point:\n",
    "    def __init__(self, x, y) -> None:\n",
    "        self.x_cord = x\n",
    "        self.y_cord = y\n",
    "    \n",
    "    def __str__(self) -> str:\n",
    "        return f\"< {self.x_cord}, {self.y_cord}>\"\n",
    "    \n",
    "    def euclidean_distance(self, other) -> float:\n",
    "        return ((self.x_cord - other.x_cord) ** 2 + (self.y_cord- other.y_cord) ** 2) ** 0.5\n",
    "    \n",
    "    def distance_from_origin(self) -> str:\n",
    "        return f\"{math.sqrt(self.x_cord **2+ self.y_cord ** 2)} units\"\n",
    "        # return self.euclidean_distance(Point(0,0)) #  this also works \n",
    "        \n",
    "class Line:\n",
    "    def __init__(self, A,B,C) -> None:\n",
    "        self.A  = A\n",
    "        self.B = B\n",
    "        self.C  = C\n",
    "        \n",
    "    def __str__(self) -> str:\n",
    "        return f\"{self.A}x + {self.B}y + {self.C} = 0\"\n",
    "    \n",
    "    def point_on_line(self,point) -> str:\n",
    "        if self.A * point.x_cord + self.B * point.y_cord + self.C == 0:\n",
    "            return f\"Lies on  the line\"\n",
    "        else:\n",
    "            return f\"Does not lie on the line\"\n",
    "        \n",
    "    def shortest_distance(line, point) -> str:\n",
    "        return f\"{abs(line.A*point.x_cord + line.B*point.y_cord + line.C)/(line.A **2 + line.B **2) ** 0.5 } units\""
   ]
  },
  {
   "cell_type": "code",
   "execution_count": 9,
   "id": "7aa8ab5f7400ce79",
   "metadata": {},
   "outputs": [
    {
     "name": "stdout",
     "output_type": "stream",
     "text": [
      "1x + 1y + -2 = 0\n",
      "Distance between points: 8.0\n",
      "distance from origin : 10.04987562112089 units\n",
      "Does not lie on the line\n",
      "6.363961030678928 units\n"
     ]
    }
   ],
   "source": [
    "p1 = Point(1,2)\n",
    "p2 = Point(1, 10)\n",
    "l1 = Line(1,1,-2)\n",
    "print(l1)\n",
    "\n",
    "d = p1.euclidean_distance(p2)\n",
    "print(f\"Distance between points: {d}\")\n",
    "\n",
    "print(f\"distance from origin : {p2.distance_from_origin()}\")\n",
    "\n",
    "l1.point_on_line(p1)\n",
    "print(l1.point_on_line(p1))\n",
    "\n",
    "l1.shortest_distance(p2)\n",
    "print(l1.shortest_distance(p2))\n"
   ]
  },
  {
   "metadata": {},
   "cell_type": "markdown",
   "source": "## accessing the attributes and method of an a class",
   "id": "ec54e379aae8ea00"
  },
  {
   "metadata": {
    "ExecuteTime": {
     "end_time": "2025-10-22T04:18:01.039237Z",
     "start_time": "2025-10-22T04:18:01.034277Z"
    }
   },
   "cell_type": "code",
   "source": [
    "class Person:\n",
    "    def __init__(self, name, country) -> None:\n",
    "        self.name = name\n",
    "        self.country = country\n",
    "\n",
    "    def greet(self) -> str:\n",
    "        if self.country == 'india':\n",
    "            return f\"namaste {self.name}\"\n",
    "        else:\n",
    "            return f\"Hello {self.name}\""
   ],
   "id": "70dad8546a47d873",
   "outputs": [],
   "execution_count": 1
  },
  {
   "metadata": {
    "ExecuteTime": {
     "end_time": "2025-10-22T04:18:12.018735Z",
     "start_time": "2025-10-22T04:18:12.016657Z"
    }
   },
   "cell_type": "code",
   "source": "p = Person('alif','india')",
   "id": "7c00624aad48b8d6",
   "outputs": [],
   "execution_count": 2
  },
  {
   "metadata": {},
   "cell_type": "markdown",
   "source": "## accesing attributes from class\n",
   "id": "68fcc965aa644f1a"
  },
  {
   "metadata": {
    "ExecuteTime": {
     "end_time": "2025-10-22T04:18:37.657962Z",
     "start_time": "2025-10-22T04:18:37.652738Z"
    }
   },
   "cell_type": "code",
   "source": [
    "print(p.name)\n",
    "print(p.country)"
   ],
   "id": "c1f1e440fa240331",
   "outputs": [
    {
     "name": "stdout",
     "output_type": "stream",
     "text": [
      "alif\n",
      "india\n"
     ]
    }
   ],
   "execution_count": 3
  },
  {
   "metadata": {
    "ExecuteTime": {
     "end_time": "2025-10-22T04:18:49.856129Z",
     "start_time": "2025-10-22T04:18:49.851213Z"
    }
   },
   "cell_type": "code",
   "source": [
    "# accessing methods from the class\n",
    "p.greet()"
   ],
   "id": "8accab2fdf6e906f",
   "outputs": [
    {
     "data": {
      "text/plain": [
       "'namaste alif'"
      ]
     },
     "execution_count": 4,
     "metadata": {},
     "output_type": "execute_result"
    }
   ],
   "execution_count": 4
  },
  {
   "metadata": {},
   "cell_type": "markdown",
   "source": "## creating attributes from the outside of the class",
   "id": "7f5055b0592b5c6"
  },
  {
   "metadata": {},
   "cell_type": "code",
   "source": [
    "# first lets try accessing a attribute which is not a attribute in a class\n",
    "p.gender # ghis will give us an cool error"
   ],
   "id": "cd5e20f27b8c5a97",
   "outputs": [],
   "execution_count": null
  },
  {
   "metadata": {
    "ExecuteTime": {
     "end_time": "2025-10-22T04:20:00.225747Z",
     "start_time": "2025-10-22T04:20:00.218725Z"
    }
   },
   "cell_type": "code",
   "source": [
    "# but we can create this by using something like this synta\n",
    "p.gender = 'male'"
   ],
   "id": "35f4c4361ede5467",
   "outputs": [],
   "execution_count": 6
  },
  {
   "metadata": {
    "ExecuteTime": {
     "end_time": "2025-10-22T04:20:03.280495Z",
     "start_time": "2025-10-22T04:20:03.276220Z"
    }
   },
   "cell_type": "code",
   "source": "p.gender",
   "id": "3efb433d6b0a032c",
   "outputs": [
    {
     "data": {
      "text/plain": [
       "'male'"
      ]
     },
     "execution_count": 7,
     "metadata": {},
     "output_type": "execute_result"
    }
   ],
   "execution_count": 7
  },
  {
   "metadata": {},
   "cell_type": "markdown",
   "source": [
    "## Reference variables\n",
    "* reference variable holds the objects\n",
    "* we can create objects without creating the ref variables\n",
    "* an object can multiple ref variables\n",
    "* assigning a new ref variable to existing object does not create a new object"
   ],
   "id": "24186c07f3ec9581"
  },
  {
   "metadata": {
    "ExecuteTime": {
     "end_time": "2025-10-22T04:30:30.381309Z",
     "start_time": "2025-10-22T04:30:30.377453Z"
    }
   },
   "cell_type": "code",
   "source": [
    "class Person:\n",
    "    def __init__(self):\n",
    "        self.name = 'kunal'\n",
    "        self.gender = 'male'\n",
    "    def greet(self):\n",
    "        return f\"Hello {self.name}\"\n",
    "\n",
    "# lets make a multiple objects pointing the same class\n",
    "p = Person() # this will create a object and store the memory address reference in p var\n",
    "# now lets make another var pointing to the same object\n",
    "q = p\n"
   ],
   "id": "40609f410304c737",
   "outputs": [],
   "execution_count": 12
  },
  {
   "metadata": {
    "ExecuteTime": {
     "end_time": "2025-10-22T04:30:30.898120Z",
     "start_time": "2025-10-22T04:30:30.894902Z"
    }
   },
   "cell_type": "code",
   "source": [
    "# now lets see these both are pointing to the one class or not\n",
    "print(id(p) == id(q))"
   ],
   "id": "8dafbc8f7b94ae8e",
   "outputs": [
    {
     "name": "stdout",
     "output_type": "stream",
     "text": [
      "True\n"
     ]
    }
   ],
   "execution_count": 13
  },
  {
   "metadata": {
    "ExecuteTime": {
     "end_time": "2025-10-22T04:30:31.989064Z",
     "start_time": "2025-10-22T04:30:31.985146Z"
    }
   },
   "cell_type": "code",
   "source": [
    "# now lets see changing the values of a class from another object\n",
    "q.name = 'jonathan'\n",
    "\n",
    "# lets check is that reflect to both the objects or not\n",
    "print(p.name)\n",
    "print(q.name)\n",
    "\n",
    "# it does change the name of both the objects because they both are pointo to the same class"
   ],
   "id": "fbfe2efb6b7829dc",
   "outputs": [
    {
     "name": "stdout",
     "output_type": "stream",
     "text": [
      "jonathan\n",
      "jonathan\n"
     ]
    }
   ],
   "execution_count": 14
  },
  {
   "metadata": {},
   "cell_type": "code",
   "outputs": [],
   "execution_count": null,
   "source": "",
   "id": "6b6ea0ca21c60cef"
  }
 ],
 "metadata": {
  "kernelspec": {
   "display_name": "Python 3",
   "language": "python",
   "name": "python3"
  },
  "language_info": {
   "codemirror_mode": {
    "name": "ipython",
    "version": 3
   },
   "file_extension": ".py",
   "mimetype": "text/x-python",
   "name": "python",
   "nbconvert_exporter": "python",
   "pygments_lexer": "ipython3",
   "version": "3.13.3"
  }
 },
 "nbformat": 4,
 "nbformat_minor": 5
}
