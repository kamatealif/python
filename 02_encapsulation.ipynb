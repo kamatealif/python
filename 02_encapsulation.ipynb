{
 "cells": [
  {
   "cell_type": "markdown",
   "id": "5bcf176c917106fa",
   "metadata": {
    "vscode": {
     "languageId": "raw"
    }
   },
   "source": [
    "# Write OOP classes to handle the following scenarios:\n",
    "\n",
    "1. a user can create and view 2d coordinates\n",
    "2. a user can find out the distance between 2 coordinates\n",
    "3. a user can find the distance of a coordinate from origin\n",
    "4. a user can check if a point lies on a given line\n",
    "5. a user can find the distance between a given 2d point and a given line\n"
   ]
  },
  {
   "cell_type": "code",
   "execution_count": 1,
   "id": "be29c0e20f5bcc97",
   "metadata": {
    "jupyter": {
     "is_executing": true
    }
   },
   "outputs": [],
   "source": [
    "import math\n",
    "\n",
    "from cups import modelSort\n",
    "\n",
    "\n",
    "class Point:\n",
    "    def __init__(self, x, y) -> None:\n",
    "        self.x_cord = x\n",
    "        self.y_cord = y\n",
    "    \n",
    "    def __str__(self) -> str:\n",
    "        return f\"< {self.x_cord}, {self.y_cord}>\"\n",
    "    \n",
    "    def euclidean_distance(self, other) -> float:\n",
    "        return ((self.x_cord - other.x_cord) ** 2 + (self.y_cord- other.y_cord) ** 2) ** 0.5\n",
    "    \n",
    "    def distance_from_origin(self) -> str:\n",
    "        return f\"{math.sqrt(self.x_cord **2+ self.y_cord ** 2)} units\"\n",
    "        # return self.euclidean_distance(Point(0,0)) #  this also works \n",
    "        \n",
    "class Line:\n",
    "    def __init__(self, A,B,C) -> None:\n",
    "        self.A  = A\n",
    "        self.B = B\n",
    "        self.C  = C\n",
    "        \n",
    "    def __str__(self) -> str:\n",
    "        return f\"{self.A}x + {self.B}y + {self.C} = 0\"\n",
    "    \n",
    "    def point_on_line(self,point) -> str:\n",
    "        if self.A * point.x_cord + self.B * point.y_cord + self.C == 0:\n",
    "            return f\"Lies on  the line\"\n",
    "        else:\n",
    "            return f\"Does not lie on the line\"\n",
    "        \n",
    "    def shortest_distance(line, point) -> str:\n",
    "        return f\"{abs(line.A*point.x_cord + line.B*point.y_cord + line.C)/(line.A **2 + line.B **2) ** 0.5 } units\""
   ]
  },
  {
   "cell_type": "code",
   "execution_count": 2,
   "id": "7aa8ab5f7400ce79",
   "metadata": {},
   "outputs": [
    {
     "name": "stdout",
     "output_type": "stream",
     "text": [
      "1x + 1y + -2 = 0\n",
      "Distance between points: 8.0\n",
      "distance from origin : 10.04987562112089 units\n",
      "Does not lie on the line\n",
      "6.363961030678928 units\n"
     ]
    }
   ],
   "source": [
    "p1 = Point(1,2)\n",
    "p2 = Point(1, 10)\n",
    "l1 = Line(1,1,-2)\n",
    "print(l1)\n",
    "\n",
    "d = p1.euclidean_distance(p2)\n",
    "print(f\"Distance between points: {d}\")\n",
    "\n",
    "print(f\"distance from origin : {p2.distance_from_origin()}\")\n",
    "\n",
    "l1.point_on_line(p1)\n",
    "print(l1.point_on_line(p1))\n",
    "\n",
    "l1.shortest_distance(p2)\n",
    "print(l1.shortest_distance(p2))\n"
   ]
  },
  {
   "cell_type": "markdown",
   "id": "ec54e379aae8ea00",
   "metadata": {},
   "source": [
    "## accessing the attributes and method of an a class\n"
   ]
  },
  {
   "cell_type": "code",
   "execution_count": 3,
   "id": "70dad8546a47d873",
   "metadata": {
    "ExecuteTime": {
     "end_time": "2025-10-22T04:18:01.039237Z",
     "start_time": "2025-10-22T04:18:01.034277Z"
    }
   },
   "outputs": [],
   "source": [
    "class Person:\n",
    "    def __init__(self, name, country) -> None:\n",
    "        self.name = name\n",
    "        self.country = country\n",
    "\n",
    "    def greet(self) -> str:\n",
    "        if self.country == 'india':\n",
    "            return f\"namaste {self.name}\"\n",
    "        else:\n",
    "            return f\"Hello {self.name}\""
   ]
  },
  {
   "cell_type": "code",
   "execution_count": 4,
   "id": "7c00624aad48b8d6",
   "metadata": {
    "ExecuteTime": {
     "end_time": "2025-10-22T04:18:12.018735Z",
     "start_time": "2025-10-22T04:18:12.016657Z"
    }
   },
   "outputs": [],
   "source": [
    "p = Person('alif','india')"
   ]
  },
  {
   "cell_type": "markdown",
   "id": "68fcc965aa644f1a",
   "metadata": {},
   "source": [
    "## accesing attributes from class\n"
   ]
  },
  {
   "cell_type": "code",
   "execution_count": 5,
   "id": "c1f1e440fa240331",
   "metadata": {
    "ExecuteTime": {
     "end_time": "2025-10-22T04:18:37.657962Z",
     "start_time": "2025-10-22T04:18:37.652738Z"
    }
   },
   "outputs": [
    {
     "name": "stdout",
     "output_type": "stream",
     "text": [
      "alif\n",
      "india\n"
     ]
    }
   ],
   "source": [
    "print(p.name)\n",
    "print(p.country)"
   ]
  },
  {
   "cell_type": "code",
   "execution_count": 6,
   "id": "8accab2fdf6e906f",
   "metadata": {
    "ExecuteTime": {
     "end_time": "2025-10-22T04:18:49.856129Z",
     "start_time": "2025-10-22T04:18:49.851213Z"
    }
   },
   "outputs": [
    {
     "data": {
      "text/plain": [
       "'namaste alif'"
      ]
     },
     "execution_count": 6,
     "metadata": {},
     "output_type": "execute_result"
    }
   ],
   "source": [
    "# accessing methods from the class\n",
    "p.greet()"
   ]
  },
  {
   "cell_type": "markdown",
   "id": "7f5055b0592b5c6",
   "metadata": {},
   "source": [
    "## creating attributes from the outside of the class\n"
   ]
  },
  {
   "cell_type": "code",
   "execution_count": 7,
   "id": "cd5e20f27b8c5a97",
   "metadata": {},
   "outputs": [
    {
     "ename": "AttributeError",
     "evalue": "'Person' object has no attribute 'gender'",
     "output_type": "error",
     "traceback": [
      "\u001b[0;31m---------------------------------------------------------------------------\u001b[0m",
      "\u001b[0;31mAttributeError\u001b[0m                            Traceback (most recent call last)",
      "Cell \u001b[0;32mIn[7], line 2\u001b[0m\n\u001b[1;32m      1\u001b[0m \u001b[38;5;66;03m# first lets try accessing a attribute which is not a attribute in a class\u001b[39;00m\n\u001b[0;32m----> 2\u001b[0m \u001b[43mp\u001b[49m\u001b[38;5;241;43m.\u001b[39;49m\u001b[43mgender\u001b[49m \u001b[38;5;66;03m# ghis will give us an cool error\u001b[39;00m\n",
      "\u001b[0;31mAttributeError\u001b[0m: 'Person' object has no attribute 'gender'"
     ]
    }
   ],
   "source": [
    "# first lets try accessing a attribute which is not a attribute in a class\n",
    "p.gender # ghis will give us an cool error"
   ]
  },
  {
   "cell_type": "code",
   "execution_count": null,
   "id": "35f4c4361ede5467",
   "metadata": {
    "ExecuteTime": {
     "end_time": "2025-10-22T04:20:00.225747Z",
     "start_time": "2025-10-22T04:20:00.218725Z"
    }
   },
   "outputs": [],
   "source": [
    "# but we can create this by using something like this synta\n",
    "p.gender = 'male'"
   ]
  },
  {
   "cell_type": "code",
   "execution_count": null,
   "id": "3efb433d6b0a032c",
   "metadata": {
    "ExecuteTime": {
     "end_time": "2025-10-22T04:20:03.280495Z",
     "start_time": "2025-10-22T04:20:03.276220Z"
    }
   },
   "outputs": [
    {
     "data": {
      "text/plain": [
       "'male'"
      ]
     },
     "execution_count": 7,
     "metadata": {},
     "output_type": "execute_result"
    }
   ],
   "source": [
    "p.gender"
   ]
  },
  {
   "cell_type": "markdown",
   "id": "24186c07f3ec9581",
   "metadata": {},
   "source": [
    "## Reference variables\n",
    "\n",
    "- reference variable holds the objects\n",
    "- we can create objects without creating the ref variables\n",
    "- an object can multiple ref variables\n",
    "- assigning a new ref variable to existing object does not create a new object\n"
   ]
  },
  {
   "cell_type": "code",
   "execution_count": null,
   "id": "40609f410304c737",
   "metadata": {
    "ExecuteTime": {
     "end_time": "2025-10-22T04:30:30.381309Z",
     "start_time": "2025-10-22T04:30:30.377453Z"
    }
   },
   "outputs": [],
   "source": [
    "class Person:\n",
    "    def __init__(self):\n",
    "        self.name = 'kunal'\n",
    "        self.gender = 'male'\n",
    "    def greet(self):\n",
    "        return f\"Hello {self.name}\"\n",
    "\n",
    "# lets make a multiple objects pointing the same class\n",
    "p = Person() # this will create a object and store the memory address reference in p var\n",
    "# now lets make another var pointing to the same object\n",
    "q = p\n"
   ]
  },
  {
   "cell_type": "code",
   "execution_count": null,
   "id": "8dafbc8f7b94ae8e",
   "metadata": {
    "ExecuteTime": {
     "end_time": "2025-10-22T04:30:30.898120Z",
     "start_time": "2025-10-22T04:30:30.894902Z"
    }
   },
   "outputs": [
    {
     "name": "stdout",
     "output_type": "stream",
     "text": [
      "True\n"
     ]
    }
   ],
   "source": [
    "# now lets see these both are pointing to the one class or not\n",
    "print(id(p) == id(q))"
   ]
  },
  {
   "cell_type": "code",
   "execution_count": null,
   "id": "fbfe2efb6b7829dc",
   "metadata": {
    "ExecuteTime": {
     "end_time": "2025-10-22T04:30:31.989064Z",
     "start_time": "2025-10-22T04:30:31.985146Z"
    }
   },
   "outputs": [
    {
     "name": "stdout",
     "output_type": "stream",
     "text": [
      "jonathan\n",
      "jonathan\n"
     ]
    }
   ],
   "source": [
    "# now lets see changing the values of a class from another object\n",
    "q.name = 'jonathan'\n",
    "\n",
    "# lets check is that reflect to both the objects or not\n",
    "print(p.name)\n",
    "print(q.name)\n",
    "\n",
    "# it does change the name of both the objects because they both are pointo to the same class"
   ]
  },
  {
   "cell_type": "markdown",
   "id": "ba797ddba5c16329",
   "metadata": {},
   "source": [
    "## pass by referenc\n"
   ]
  },
  {
   "cell_type": "code",
   "execution_count": null,
   "id": "4b0bdcd18c7faff5",
   "metadata": {
    "ExecuteTime": {
     "end_time": "2025-10-22T04:50:44.268086Z",
     "start_time": "2025-10-22T04:50:44.257025Z"
    }
   },
   "outputs": [
    {
     "name": "stdout",
     "output_type": "stream",
     "text": [
      "Model: bwm m5, Brand: byrish motoron werk\n"
     ]
    },
    {
     "data": {
      "text/plain": [
       "<__main__.Car at 0x7f8de41f7610>"
      ]
     },
     "execution_count": 23,
     "metadata": {},
     "output_type": "execute_result"
    }
   ],
   "source": [
    "# lets create a class\n",
    "class Car:\n",
    "    def __init__(self,model, brand) -> None:\n",
    "        self.model = model\n",
    "        self.brand  = brand\n",
    "\n",
    "# outside the class function\n",
    "def car_info(car_obj):\n",
    "    print(f\"Model: {car_obj.model}, Brand: {car_obj.brand}\")\n",
    "    c2 = Car('Tata Safari', 'Tata')\n",
    "    return c2\n",
    "\n",
    "\n",
    "c = Car(\"bwm m5\", \"byrish motoron werk\")\n",
    "# this is where we are passing the c ref var\n",
    "car_info(c)"
   ]
  },
  {
   "cell_type": "code",
   "execution_count": null,
   "id": "f2802ae42bd3eb74",
   "metadata": {
    "ExecuteTime": {
     "end_time": "2025-10-22T04:50:45.013392Z",
     "start_time": "2025-10-22T04:50:45.008571Z"
    }
   },
   "outputs": [
    {
     "name": "stdout",
     "output_type": "stream",
     "text": [
      "Model: bwm m5, Brand: byrish motoron werk\n",
      "Tata\n",
      "Tata Safari\n"
     ]
    }
   ],
   "source": [
    "# we can pass the ref var of a class object to the function\n",
    "x1 = car_info(c)\n",
    "print(x1.brand)\n",
    "print(x1.model)\n",
    "\n",
    "# which means that the function can also accept the ref variable of class object and also can return a new object of a class"
   ]
  },
  {
   "cell_type": "code",
   "execution_count": null,
   "id": "783610846cd2aa02",
   "metadata": {
    "ExecuteTime": {
     "end_time": "2025-10-22T04:56:17.992734Z",
     "start_time": "2025-10-22T04:56:17.987645Z"
    }
   },
   "outputs": [
    {
     "name": "stdout",
     "output_type": "stream",
     "text": [
      "Model: bwm m5, Brand: byrish motoron werk\n",
      "after changing the brand: lamborghini, model: lamborghini avantador\n"
     ]
    }
   ],
   "source": [
    " # lets create a class\n",
    "class Car:\n",
    "    def __init__(self,model, brand) -> None:\n",
    "        self.model = model\n",
    "        self.brand  = brand\n",
    "\n",
    "# outside the class function\n",
    "def car_info(car_obj):\n",
    "    print(f\"Model: {car_obj.model}, Brand: {car_obj.brand}\")\n",
    "    # CHANGING THE ATTRIBUTES OF A CLASS\n",
    "    car_obj.model = \"lamborghini avantador\"\n",
    "    car_obj.brand = \"lamborghini\"\n",
    "\n",
    "c = Car(\"bwm m5\", \"byrish motoron werk\")\n",
    "# this is where we are passing the c ref var\n",
    "car_info(c)\n",
    "\n",
    "print(f\"after changing the brand: {c.brand}, model: {c.model}\")\n",
    "\n",
    "# which means that function can also modify the objcts attribute values from the function"
   ]
  },
  {
   "cell_type": "markdown",
   "id": "8a2213a0c6cb39a9",
   "metadata": {},
   "source": [
    "## encapsulation\n"
   ]
  },
  {
   "cell_type": "code",
   "execution_count": null,
   "id": "2a19a3e92bb8f5ad",
   "metadata": {},
   "outputs": [],
   "source": [
    "## instance var \n",
    "class Person :\n",
    "    def __init__(self,name, country) -> None:\n",
    "        self.__name = name;\n",
    "        self.__country = country;\n",
    "        \n",
    "        \n",
    "p1 = Person('kunal', 'india')\n",
    "p2 = Person('Jonathan', \"USA\")\n",
    "\n",
    "# means making the attributes private or hiding it from outside the class"
   ]
  },
  {
   "cell_type": "code",
   "execution_count": 15,
   "id": "2a7df6bf",
   "metadata": {},
   "outputs": [],
   "source": [
    "class Atm:\n",
    "\n",
    "  # cunstructor(special power) -> super power -> that it is autometically called\n",
    "    def __init__(self):\n",
    "        self.pin = ''\n",
    "        self.__balance = 0\n",
    "        # self.menu()\n",
    "\n",
    "    def get_balance(self):\n",
    "        return self.__balance;\n",
    "    \n",
    "    def set_balance(self, amount):\n",
    "        if isinstance(amount, int) and amount >= 0:\n",
    "        \n",
    "            self.__balance = amount\n",
    "        else:\n",
    "            print(\"Beta Bahoot maar khaoge... \")\n",
    "            \n",
    "            \n",
    "    def menu(self):\n",
    "        user_input = input(\"\"\"\n",
    "        How are you how i can help you?\n",
    "        1. Press 1 to create pin\n",
    "        2. Press 2 to change pin\n",
    "        3. Press 3 to check balance\n",
    "        4. Press 4 to withdraw\n",
    "        5. Anything else to exit\n",
    "        \"\"\")\n",
    "        print() # for new line\n",
    "\n",
    "        if user_input == '1':\n",
    "            #create pin\n",
    "            self.create_pin()\n",
    "        elif user_input == '2':\n",
    "            self.change_pin()\n",
    "        elif user_input == '3':\n",
    "            # check balance \n",
    "            self.check_balance()\n",
    "        elif user_input == '4':\n",
    "            #withdraw\n",
    "            self.withdraw_balance()\n",
    "        else:\n",
    "            exit()\n",
    "\n",
    "    def create_pin(self):\n",
    "      user_pin = input(\"Enter your pin: \")\n",
    "      self.pin = user_pin\n",
    "\n",
    "      user_balance = int(input(\"Enter balance: \"))\n",
    "      self.__balance = user_balance\n",
    "\n",
    "      print(\"Pin created successfully\")\n",
    "    #   self.menu()\n",
    "\n",
    "    def change_pin(self):\n",
    "        old_pin = input(\"Enter old pin\")\n",
    "        if old_pin == self.pin:\n",
    "            #let him change the pin \n",
    "            new_pin = input(\"Enter new pin\")\n",
    "            self.pin = new_pin\n",
    "            print(\"Pin changed successfully...\")\n",
    "            # self.menu()\n",
    "        else:\n",
    "            print(\"Nai karne de sakta re babaa...\")\n",
    "            # self.menu()\n",
    "\n",
    "    def check_balance(self):\n",
    "        user_pin = input(\"Enter your pin: \")\n",
    "        if user_pin == self.pin:\n",
    "            print(f\"Your balance is : {self.__balance}\")\n",
    "        else:\n",
    "            print(\"Chal nikal yaha se... \")\n",
    "        # self.menu()\n",
    "\n",
    "    def withdraw_balance(self):\n",
    "        user_pin = input(\"Enter your pin: \")\n",
    "        if user_pin == self.pin:\n",
    "            withdraw_amount = int(input(\"Enter how much you want to withdra: \"))\n",
    "            if withdraw_amount <= self.__balance:                \n",
    "                self.__balance = self.__balance - withdraw_amount\n",
    "                print(f\"Your remaining balance is {self.__balance}\")\n",
    "            else:\n",
    "                print(f\"Remaining balance is: {self.__balance}\")\n",
    "                print(\"Aukat se zyada nikal raha hai re tu...\")\n",
    "        else:\n",
    "            print(\"Sale chor...\")\n",
    "        # self.menu()\n",
    "        \n",
    "        "
   ]
  },
  {
   "cell_type": "code",
   "execution_count": 16,
   "id": "1f2b3746",
   "metadata": {},
   "outputs": [],
   "source": [
    "obj = Atm();"
   ]
  },
  {
   "cell_type": "code",
   "execution_count": 17,
   "id": "00230ed7",
   "metadata": {},
   "outputs": [],
   "source": [
    "\n",
    "# in memory, private attributes are stored with a different name\n",
    "# we can access them like this\n",
    "obj._Atm__balance;"
   ]
  },
  {
   "cell_type": "code",
   "execution_count": 18,
   "id": "239889ee",
   "metadata": {},
   "outputs": [],
   "source": [
    "# so the getter and setter methods are made to access and update the values "
   ]
  },
  {
   "cell_type": "code",
   "execution_count": 19,
   "id": "eb3993e7",
   "metadata": {},
   "outputs": [
    {
     "name": "stdout",
     "output_type": "stream",
     "text": [
      "Pin created successfully\n"
     ]
    }
   ],
   "source": [
    "obj.create_pin()\n",
    " # now the junior can change the balance \n",
    "# so we can make condition in setter function to prevent junior from changing the balance "
   ]
  },
  {
   "cell_type": "code",
   "execution_count": 20,
   "id": "fdf1c795",
   "metadata": {},
   "outputs": [
    {
     "name": "stdout",
     "output_type": "stream",
     "text": [
      "Beta Bahoot maar khaoge... \n",
      "Beta Bahoot maar khaoge... \n"
     ]
    }
   ],
   "source": [
    "obj.set_balance('heeeheheheheh') # now we are preventing the junior from changing the balance\n",
    "obj.set_balance(-1000) # now we are preventing the junior from changing the balance\n"
   ]
  },
  {
   "cell_type": "markdown",
   "id": "72be5441",
   "metadata": {},
   "source": [
    "## list of objects\n"
   ]
  },
  {
   "cell_type": "code",
   "execution_count": 6,
   "id": "f9f32436",
   "metadata": {},
   "outputs": [
    {
     "name": "stdout",
     "output_type": "stream",
     "text": [
      "<0> alif : male\n",
      "<1> sarah : female\n",
      "<2> john : male\n"
     ]
    }
   ],
   "source": [
    "class Person:\n",
    "    def __init__(self, name, gender) -> None:\n",
    "        self.name = name;\n",
    "        self.gender = gender;\n",
    "\n",
    "p1 = Person('alif', 'male')\n",
    "p2 = Person('sarah', 'female')\n",
    "p3 = Person('john', 'male') \n",
    "\n",
    "\n",
    "lst = [p1, p2, p3]\n",
    "\n",
    "for index, person in enumerate(lst):\n",
    "    print(f\"<{index}> {person.name} : {person.gender}\")"
   ]
  },
  {
   "cell_type": "code",
   "execution_count": 7,
   "id": "4ef62531",
   "metadata": {},
   "outputs": [
    {
     "name": "stdout",
     "output_type": "stream",
     "text": [
      "p1 -> alif : male\n",
      "p2 -> sarah : female\n",
      "p3 -> john : male\n"
     ]
    }
   ],
   "source": [
    "# using dicts\n",
    "class Person:\n",
    "    def __init__(self, name, gender) -> None:\n",
    "        self.name = name;\n",
    "        self.gender = gender;\n",
    "\n",
    "p1 = Person('alif', 'male')\n",
    "p2 = Person('sarah', 'female')\n",
    "p3 = Person('john', 'male') \n",
    "\n",
    "\n",
    "d = {\"p1\": p1, \"p2\": p2, \"p3\": p3}\n",
    "\n",
    "for key in d: \n",
    "    print(f\"{key} -> {d[key].name} : {d[key].gender}\")"
   ]
  },
  {
   "cell_type": "code",
   "execution_count": 15,
   "id": "6108a842",
   "metadata": {},
   "outputs": [],
   "source": [
    "# static var: which is a class var defined outside of the contstructor\n",
    "\n",
    "class Person : \n",
    "    counter = 0;\n",
    "    def __init__(self,name, country) -> None:\n",
    "        self.name = name;\n",
    "        self.country = country\n",
    "        self.person_id = Person.counter\n",
    "        Person.counter += 1;\n",
    "    \n",
    "    def __str__(self) -> str:\n",
    "        return f\"Person[ID: {self.person_id}, Name: {self.name}, Country: {self.country}]\""
   ]
  },
  {
   "cell_type": "code",
   "execution_count": 16,
   "id": "35a1611e",
   "metadata": {},
   "outputs": [
    {
     "name": "stdout",
     "output_type": "stream",
     "text": [
      "Person[ID: 0, Name: kunal, Country: india]\n",
      "Person[ID: 1, Name: Jonathan, Country: USA]\n",
      "Person[ID: 2, Name: alice, Country: UK]\n",
      "Person[ID: 3, Name: bob, Country: australia]\n"
     ]
    }
   ],
   "source": [
    "p1 = Person('kunal', 'india')\n",
    "p2 = Person('Jonathan', \"USA\")\n",
    "p3 = Person('alice', \"UK\")\n",
    "p4 = Person('bob', \"australia\")\n",
    "\n",
    "person_list = [p1, p2, p3, p4]\n",
    "\n",
    "for person in person_list:\n",
    "    print(person)"
   ]
  },
  {
   "cell_type": "code",
   "execution_count": null,
   "id": "c54f80f7",
   "metadata": {},
   "outputs": [],
   "source": []
  }
 ],
 "metadata": {
  "kernelspec": {
   "display_name": "Python 3",
   "language": "python",
   "name": "python3"
  },
  "language_info": {
   "codemirror_mode": {
    "name": "ipython",
    "version": 3
   },
   "file_extension": ".py",
   "mimetype": "text/x-python",
   "name": "python",
   "nbconvert_exporter": "python",
   "pygments_lexer": "ipython3",
   "version": "3.13.3"
  }
 },
 "nbformat": 4,
 "nbformat_minor": 5
}
