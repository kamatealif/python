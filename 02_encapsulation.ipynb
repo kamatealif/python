{
 "cells": [
  {
   "cell_type": "markdown",
   "id": "5bcf176c917106fa",
   "metadata": {
    "vscode": {
     "languageId": "raw"
    }
   },
   "source": [
    "# Write OOP classes to handle the following scenarios:\n",
    "\n",
    "1. a user can create and view 2d coordinates\n",
    "2. a user can find out the distance between 2 coordinates\n",
    "3. a user can find the distance of a coordinate from origin\n",
    "4. a user can check if a point lies on a given line\n",
    "5. a user can find the distance between a given 2d point and a given line\n"
   ]
  },
  {
   "cell_type": "code",
   "execution_count": 27,
   "id": "be29c0e20f5bcc97",
   "metadata": {
    "jupyter": {
     "is_executing": true
    }
   },
   "outputs": [],
   "source": [
    "import math\n",
    "\n",
    "class Point:\n",
    "    def __init__(self, x, y) -> None:\n",
    "        self.x_cord = x\n",
    "        self.y_cord = y\n",
    "    \n",
    "    def __str__(self) -> str:\n",
    "        return f\"< {self.x_cord}, {self.y_cord}>\"\n",
    "    \n",
    "    def euclidean_distance(self, other) -> float:\n",
    "        return ((self.x_cord - other.x_cord) ** 2 + (self.y_cord- other.y_cord) ** 2) ** 0.5\n",
    "    \n",
    "    def distance_from_origin(self) -> str:\n",
    "        return f\"{math.sqrt(self.x_cord **2+ self.y_cord ** 2)} units\"\n",
    "        # return self.euclidean_distance(Point(0,0)) #  this also works \n",
    "        \n",
    "class Line:\n",
    "    def __init__(self, A,B,C) -> None:\n",
    "        self.A  = A\n",
    "        self.B = B\n",
    "        self.C  = C\n",
    "        \n",
    "    def __str__(self) -> str:\n",
    "        return f\"{self.A}x + {self.B}y + {self.C} = 0\"\n",
    "    \n",
    "    def point_on_line(self,point) -> str:\n",
    "        if self.A * point.x_cord + self.B * point.y_cord + self.C == 0:\n",
    "            return f\"Lies on  the line\"\n",
    "        else:\n",
    "            return f\"Does not lie on the line\""
   ]
  },
  {
   "cell_type": "code",
   "execution_count": null,
   "id": "7aa8ab5f7400ce79",
   "metadata": {},
   "outputs": [
    {
     "name": "stdout",
     "output_type": "stream",
     "text": [
      "1x + 1y + -2 = 0\n",
      "Distance between points: 12.727922061357855\n",
      "distance from origin : 14.142135623730951 units\n",
      "Lies on  the line\n"
     ]
    }
   ],
   "source": [
    "p1 = Point(1,2)\n",
    "p2 = Point(10, 10)\n",
    "l1 = Line(1,1,-2)\n",
    "print(l1)\n",
    "\n",
    "d = p1.euclidean_distance(p2)\n",
    "print(f\"Distance between points: {d}\")\n",
    "\n",
    "print(f\"distance from origin : {p2.distance_from_origin()}\")\n",
    "\n",
    "l1.point_on_line(p1)\n",
    "print(l1.point_on_line(p1))\n"
   ]
  },
  {
   "cell_type": "code",
   "execution_count": null,
   "id": "8dcf3b02",
   "metadata": {},
   "outputs": [],
   "source": []
  }
 ],
 "metadata": {
  "kernelspec": {
   "display_name": "Python 3",
   "language": "python",
   "name": "python3"
  },
  "language_info": {
   "codemirror_mode": {
    "name": "ipython",
    "version": 3
   },
   "file_extension": ".py",
   "mimetype": "text/x-python",
   "name": "python",
   "nbconvert_exporter": "python",
   "pygments_lexer": "ipython3",
   "version": "3.13.3"
  }
 },
 "nbformat": 4,
 "nbformat_minor": 5
}
