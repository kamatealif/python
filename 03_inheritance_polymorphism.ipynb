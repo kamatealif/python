{
 "cells": [
  {
   "metadata": {},
   "cell_type": "markdown",
   "source": [
    "## class relation\n",
    "\n",
    "* Aggregation\n",
    "* inheritance"
   ],
   "id": "5d48d7d14f904263"
  },
  {
   "metadata": {},
   "cell_type": "markdown",
   "source": "### Aggregation (has-A relationship)",
   "id": "9fad3ab97e984eb0"
  },
  {
   "metadata": {
    "ExecuteTime": {
     "end_time": "2025-10-26T16:06:02.749046Z",
     "start_time": "2025-10-26T16:06:02.742525Z"
    }
   },
   "cell_type": "code",
   "source": [
    "class Customer:\n",
    "    def __init__(self,name, gender, address):\n",
    "        self.name = name\n",
    "        self.gender = gender\n",
    "        self.address = address\n",
    "\n",
    "    def print_address(self):\n",
    "        print(f\"{self.address.street}, {self.address.get_city()}, {self.address.state}: {self.address.zipcode}\")\n",
    "\n",
    "    def edit_profile(self, new_name, new_street, new_city, new_state, new_zipcode):\n",
    "        self.name = new_name\n",
    "        self.address.edit_profile( new_street, new_city, new_state, new_zipcode)\n",
    "\n",
    "class Address:\n",
    "    def __init__(self,street,city,state,zipcode):\n",
    "        self.street = street\n",
    "        self.__city = city\n",
    "        self.state = state\n",
    "        self.zipcode = zipcode\n",
    "\n",
    "    # incapsulating the city\n",
    "    def get_city(self):\n",
    "        return self.__city\n",
    "\n",
    "    def edit_address(self, new_street, new_city, new_state, new_zipcode):\n",
    "        self.street = new_street\n",
    "        self.__city = new_city\n",
    "        self.state = new_state\n",
    "        self.zipcode = new_zipcode\n",
    "\n",
    "\n",
    "# objects\n",
    "add1: Address = Address('sangli','sangli','maharashtra','414029')\n",
    "customer: Customer = Customer('John', 'male', add1)"
   ],
   "id": "156d52b0b74b32bc",
   "outputs": [],
   "execution_count": 14
  },
  {
   "metadata": {
    "ExecuteTime": {
     "end_time": "2025-10-26T16:06:04.019628Z",
     "start_time": "2025-10-26T16:06:04.014803Z"
    }
   },
   "cell_type": "code",
   "source": "customer.print_address()",
   "id": "dddf8cd391f19f78",
   "outputs": [
    {
     "name": "stdout",
     "output_type": "stream",
     "text": [
      "sangli, sangli, maharashtra: 414029\n"
     ]
    }
   ],
   "execution_count": 15
  },
  {
   "metadata": {
    "ExecuteTime": {
     "end_time": "2025-10-26T16:06:04.815162Z",
     "start_time": "2025-10-26T16:06:04.811266Z"
    }
   },
   "cell_type": "code",
   "source": "customer.edit_profile('kunal','jath', 'pune', 'maharashtra','414449')",
   "id": "a5d1e4f72e38afc3",
   "outputs": [],
   "execution_count": 16
  },
  {
   "metadata": {
    "ExecuteTime": {
     "end_time": "2025-10-26T16:06:11.445843Z",
     "start_time": "2025-10-26T16:06:11.442855Z"
    }
   },
   "cell_type": "code",
   "source": "customer.print_address()",
   "id": "c56605d143a2763e",
   "outputs": [
    {
     "name": "stdout",
     "output_type": "stream",
     "text": [
      "jath, pune, maharashtra: 414449\n"
     ]
    }
   ],
   "execution_count": 17
  },
  {
   "metadata": {},
   "cell_type": "markdown",
   "source": "#### aggrigation class diagram",
   "id": "20dc5ca4d48dd285"
  },
  {
   "metadata": {},
   "cell_type": "code",
   "outputs": [],
   "execution_count": null,
   "source": "",
   "id": "20894c5ab0fe2837"
  },
  {
   "metadata": {},
   "cell_type": "markdown",
   "source": "### Inheritance\n",
   "id": "44eaad85f6ead59"
  },
  {
   "metadata": {
    "ExecuteTime": {
     "end_time": "2025-10-31T13:37:50.644043Z",
     "start_time": "2025-10-31T13:37:50.630862Z"
    }
   },
   "cell_type": "code",
   "source": [
    "# parent class\n",
    "class User:\n",
    "    def __init__(self):\n",
    "        self.name = 'kunal'\n",
    "\n",
    "    def get_name(self):\n",
    "        return self.name\n",
    "\n",
    "    def login(self):\n",
    "        print(\"Login\")\n",
    "\n",
    "class Student(User):\n",
    "\n",
    "\n",
    "    def enroll(self):\n",
    "        print(\"Enroll\")\n",
    "\n",
    "\n",
    "u = User()\n",
    "s = Student()\n",
    "print(s.get_name())\n",
    "print(s.login())\n",
    "print(s.enroll())"
   ],
   "id": "c9f3be890c706ea0",
   "outputs": [
    {
     "name": "stdout",
     "output_type": "stream",
     "text": [
      "kunal\n",
      "Login\n",
      "None\n",
      "Enroll\n",
      "None\n"
     ]
    }
   ],
   "execution_count": 9
  },
  {
   "metadata": {},
   "cell_type": "markdown",
   "source": [
    "## what gets inherited:\n",
    "* constructor\n",
    "* non Private attributes\n",
    "* non Private methods"
   ],
   "id": "17756102dc84fc2"
  },
  {
   "metadata": {
    "ExecuteTime": {
     "end_time": "2025-10-31T13:50:49.925817Z",
     "start_time": "2025-10-31T13:50:49.914955Z"
    }
   },
   "cell_type": "code",
   "source": [
    "# constructor example\n",
    "class Phone:\n",
    "    def __init__(self, price, brand, camera):\n",
    "        self.price = price\n",
    "        self.brand = brand\n",
    "        self.camera = camera\n",
    "        print(\"Inside Phone Constructor\")\n",
    "\n",
    "    def buy(self):\n",
    "        print(\"Buying Phone\")\n",
    "\n",
    "# child class\n",
    "class Smartphone(Phone):\n",
    "    pass;\n",
    "\n",
    "\n",
    "s = Smartphone(120_000, 'samsung', 'sony')\n"
   ],
   "id": "c47cd679a5ffb532",
   "outputs": [
    {
     "name": "stdout",
     "output_type": "stream",
     "text": [
      "Inside Phone Constructor\n"
     ]
    }
   ],
   "execution_count": 11
  },
  {
   "metadata": {},
   "cell_type": "code",
   "outputs": [],
   "execution_count": null,
   "source": "",
   "id": "96b5f5f30201769"
  }
 ],
 "metadata": {
  "kernelspec": {
   "display_name": "Python 3",
   "language": "python",
   "name": "python3"
  },
  "language_info": {
   "codemirror_mode": {
    "name": "ipython",
    "version": 2
   },
   "file_extension": ".py",
   "mimetype": "text/x-python",
   "name": "python",
   "nbconvert_exporter": "python",
   "pygments_lexer": "ipython2",
   "version": "2.7.6"
  }
 },
 "nbformat": 4,
 "nbformat_minor": 5
}
