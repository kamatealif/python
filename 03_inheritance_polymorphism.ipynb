{
 "cells": [
  {
   "metadata": {},
   "cell_type": "markdown",
   "source": [
    "## class relation\n",
    "\n",
    "* Aggregation\n",
    "* inheritance"
   ],
   "id": "5d48d7d14f904263"
  },
  {
   "metadata": {},
   "cell_type": "markdown",
   "source": "### Aggregation (has-A relationship)",
   "id": "9fad3ab97e984eb0"
  },
  {
   "metadata": {
    "ExecuteTime": {
     "end_time": "2025-10-26T15:39:45.205275Z",
     "start_time": "2025-10-26T15:39:45.196651Z"
    }
   },
   "cell_type": "code",
   "source": [
    "class Customer:\n",
    "    def __init__(self,name, gender, address):\n",
    "        self.name = name\n",
    "        self.gender = gender\n",
    "        self.address = address\n",
    "\n",
    "    def print_address(self):\n",
    "        print(f\"{self.address.street}, {self.address.city}, {self.address.state}: \")\n",
    "\n",
    "class Address:\n",
    "    def __init__(self,street,city,state,zipcode):\n",
    "        self.street = street\n",
    "        self.city = city\n",
    "        self.state = state\n",
    "        self.zipcode = zipcode\n",
    "\n",
    "\n",
    "# objects\n",
    "add1 = Address('sangli','sangli','maharashtra','414029')\n",
    "cust = Customer('John', 'male', add1)"
   ],
   "id": "156d52b0b74b32bc",
   "outputs": [],
   "execution_count": 1
  },
  {
   "metadata": {
    "ExecuteTime": {
     "end_time": "2025-10-26T15:39:58.055038Z",
     "start_time": "2025-10-26T15:39:58.049625Z"
    }
   },
   "cell_type": "code",
   "source": "cust.print_address()",
   "id": "dddf8cd391f19f78",
   "outputs": [
    {
     "name": "stdout",
     "output_type": "stream",
     "text": [
      "sangli, sangli, maharashtra: \n"
     ]
    }
   ],
   "execution_count": 2
  },
  {
   "metadata": {},
   "cell_type": "code",
   "outputs": [],
   "execution_count": null,
   "source": "",
   "id": "b0725263d552eb88"
  }
 ],
 "metadata": {
  "kernelspec": {
   "display_name": "Python 3",
   "language": "python",
   "name": "python3"
  },
  "language_info": {
   "codemirror_mode": {
    "name": "ipython",
    "version": 2
   },
   "file_extension": ".py",
   "mimetype": "text/x-python",
   "name": "python",
   "nbconvert_exporter": "python",
   "pygments_lexer": "ipython2",
   "version": "2.7.6"
  }
 },
 "nbformat": 4,
 "nbformat_minor": 5
}
