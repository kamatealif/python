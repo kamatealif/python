{
 "cells": [
  {
   "metadata": {},
   "cell_type": "markdown",
   "source": [
    "## class relation\n",
    "\n",
    "* Aggregation\n",
    "* inheritance"
   ],
   "id": "5d48d7d14f904263"
  },
  {
   "metadata": {},
   "cell_type": "markdown",
   "source": "### Aggregation (has-A relationship)",
   "id": "9fad3ab97e984eb0"
  },
  {
   "metadata": {
    "ExecuteTime": {
     "end_time": "2025-10-26T15:55:51.295980Z",
     "start_time": "2025-10-26T15:55:51.289796Z"
    }
   },
   "cell_type": "code",
   "source": [
    "class Customer:\n",
    "    def __init__(self,name, gender, address):\n",
    "        self.name = name\n",
    "        self.gender = gender\n",
    "        self.address = address\n",
    "\n",
    "    def print_address(self):\n",
    "        print(f\"{self.address.street}, {self.address.get_city()}, {self.address.state}: {self.address.zipcode}\")\n",
    "\n",
    "class Address:\n",
    "    def __init__(self,street,city,state,zipcode):\n",
    "        self.street = street\n",
    "        self.__city = city\n",
    "        self.state = state\n",
    "        self.zipcode = zipcode\n",
    "\n",
    "    # incapsulating the city\n",
    "    def get_city(self):\n",
    "        return self.__city\n",
    "# objects\n",
    "add1: Address = Address('sangli','sangli','maharashtra','414029')\n",
    "customer: Customer = Customer('John', 'male', add1)"
   ],
   "id": "156d52b0b74b32bc",
   "outputs": [],
   "execution_count": 9
  },
  {
   "metadata": {
    "ExecuteTime": {
     "end_time": "2025-10-26T15:55:54.711805Z",
     "start_time": "2025-10-26T15:55:54.708021Z"
    }
   },
   "cell_type": "code",
   "source": "customer.print_address()",
   "id": "dddf8cd391f19f78",
   "outputs": [
    {
     "name": "stdout",
     "output_type": "stream",
     "text": [
      "sangli, sangli, maharashtra: 414029\n"
     ]
    }
   ],
   "execution_count": 10
  },
  {
   "metadata": {},
   "cell_type": "code",
   "outputs": [],
   "execution_count": null,
   "source": "",
   "id": "a5d1e4f72e38afc3"
  }
 ],
 "metadata": {
  "kernelspec": {
   "display_name": "Python 3",
   "language": "python",
   "name": "python3"
  },
  "language_info": {
   "codemirror_mode": {
    "name": "ipython",
    "version": 2
   },
   "file_extension": ".py",
   "mimetype": "text/x-python",
   "name": "python",
   "nbconvert_exporter": "python",
   "pygments_lexer": "ipython2",
   "version": "2.7.6"
  }
 },
 "nbformat": 4,
 "nbformat_minor": 5
}
