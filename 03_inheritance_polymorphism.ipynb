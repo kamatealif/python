{
 "cells": [
  {
   "metadata": {},
   "cell_type": "markdown",
   "source": [
    "## class relation\n",
    "\n",
    "* Aggregation\n",
    "* inheritance"
   ],
   "id": "5d48d7d14f904263"
  },
  {
   "metadata": {},
   "cell_type": "markdown",
   "source": "### Aggregation (has-A relationship)",
   "id": "9fad3ab97e984eb0"
  },
  {
   "metadata": {
    "ExecuteTime": {
     "end_time": "2025-10-26T16:06:02.749046Z",
     "start_time": "2025-10-26T16:06:02.742525Z"
    }
   },
   "cell_type": "code",
   "source": [
    "class Customer:\n",
    "    def __init__(self,name, gender, address):\n",
    "        self.name = name\n",
    "        self.gender = gender\n",
    "        self.address = address\n",
    "\n",
    "    def print_address(self):\n",
    "        print(f\"{self.address.street}, {self.address.get_city()}, {self.address.state}: {self.address.zipcode}\")\n",
    "\n",
    "    def edit_profile(self, new_name, new_street, new_city, new_state, new_zipcode):\n",
    "        self.name = new_name\n",
    "        self.address.edit_profile( new_street, new_city, new_state, new_zipcode)\n",
    "\n",
    "class Address:\n",
    "    def __init__(self,street,city,state,zipcode):\n",
    "        self.street = street\n",
    "        self.__city = city\n",
    "        self.state = state\n",
    "        self.zipcode = zipcode\n",
    "\n",
    "    # incapsulating the city\n",
    "    def get_city(self):\n",
    "        return self.__city\n",
    "\n",
    "    def edit_address(self, new_street, new_city, new_state, new_zipcode):\n",
    "        self.street = new_street\n",
    "        self.__city = new_city\n",
    "        self.state = new_state\n",
    "        self.zipcode = new_zipcode\n",
    "\n",
    "\n",
    "# objects\n",
    "add1: Address = Address('sangli','sangli','maharashtra','414029')\n",
    "customer: Customer = Customer('John', 'male', add1)"
   ],
   "id": "156d52b0b74b32bc",
   "outputs": [],
   "execution_count": 14
  },
  {
   "metadata": {
    "ExecuteTime": {
     "end_time": "2025-10-26T16:06:04.019628Z",
     "start_time": "2025-10-26T16:06:04.014803Z"
    }
   },
   "cell_type": "code",
   "source": "customer.print_address()",
   "id": "dddf8cd391f19f78",
   "outputs": [
    {
     "name": "stdout",
     "output_type": "stream",
     "text": [
      "sangli, sangli, maharashtra: 414029\n"
     ]
    }
   ],
   "execution_count": 15
  },
  {
   "metadata": {
    "ExecuteTime": {
     "end_time": "2025-10-26T16:06:04.815162Z",
     "start_time": "2025-10-26T16:06:04.811266Z"
    }
   },
   "cell_type": "code",
   "source": "customer.edit_profile('kunal','jath', 'pune', 'maharashtra','414449')",
   "id": "a5d1e4f72e38afc3",
   "outputs": [],
   "execution_count": 16
  },
  {
   "metadata": {
    "ExecuteTime": {
     "end_time": "2025-10-26T16:06:11.445843Z",
     "start_time": "2025-10-26T16:06:11.442855Z"
    }
   },
   "cell_type": "code",
   "source": "customer.print_address()",
   "id": "c56605d143a2763e",
   "outputs": [
    {
     "name": "stdout",
     "output_type": "stream",
     "text": [
      "jath, pune, maharashtra: 414449\n"
     ]
    }
   ],
   "execution_count": 17
  },
  {
   "metadata": {},
   "cell_type": "markdown",
   "source": "#### aggrigation class diagram",
   "id": "20dc5ca4d48dd285"
  },
  {
   "metadata": {},
   "cell_type": "code",
   "outputs": [],
   "execution_count": null,
   "source": "",
   "id": "20894c5ab0fe2837"
  }
 ],
 "metadata": {
  "kernelspec": {
   "display_name": "Python 3",
   "language": "python",
   "name": "python3"
  },
  "language_info": {
   "codemirror_mode": {
    "name": "ipython",
    "version": 2
   },
   "file_extension": ".py",
   "mimetype": "text/x-python",
   "name": "python",
   "nbconvert_exporter": "python",
   "pygments_lexer": "ipython2",
   "version": "2.7.6"
  }
 },
 "nbformat": 4,
 "nbformat_minor": 5
}
